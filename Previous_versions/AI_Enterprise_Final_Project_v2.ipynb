{
 "cells": [
  {
   "cell_type": "code",
   "execution_count": 90,
   "id": "a8603a2a-3f5e-4a6b-b684-1a3a666fc2fe",
   "metadata": {},
   "outputs": [],
   "source": [
    "import pandas as pd\n",
    "from tensorflow.keras.layers import Embedding\n",
    "from tensorflow.keras.preprocessing.sequence import pad_sequences\n",
    "from tensorflow.keras.models import Sequential\n",
    "from tensorflow.keras.preprocessing.text import one_hot\n",
    "from tensorflow.keras.layers import LSTM\n",
    "from tensorflow.keras.layers import Activation\n",
    "from tensorflow.keras.layers import Dense\n",
    "import nltk\n",
    "import re\n",
    "import numpy as np\n",
    "from nltk.corpus import stopwords\n",
    "from nltk.stem.porter import PorterStemmer\n",
    "from sklearn.model_selection import train_test_split"
   ]
  },
  {
   "cell_type": "code",
   "execution_count": 57,
   "id": "5d2d9977-093c-42b8-b57d-d0c4cbb86669",
   "metadata": {},
   "outputs": [
    {
     "data": {
      "text/html": [
       "<div>\n",
       "<style scoped>\n",
       "    .dataframe tbody tr th:only-of-type {\n",
       "        vertical-align: middle;\n",
       "    }\n",
       "\n",
       "    .dataframe tbody tr th {\n",
       "        vertical-align: top;\n",
       "    }\n",
       "\n",
       "    .dataframe thead th {\n",
       "        text-align: right;\n",
       "    }\n",
       "</style>\n",
       "<table border=\"1\" class=\"dataframe\">\n",
       "  <thead>\n",
       "    <tr style=\"text-align: right;\">\n",
       "      <th></th>\n",
       "      <th>id</th>\n",
       "      <th>title</th>\n",
       "      <th>author</th>\n",
       "      <th>text</th>\n",
       "      <th>label</th>\n",
       "    </tr>\n",
       "  </thead>\n",
       "  <tbody>\n",
       "    <tr>\n",
       "      <th>0</th>\n",
       "      <td>0</td>\n",
       "      <td>House Dem Aide: We Didn’t Even See Comey’s Let...</td>\n",
       "      <td>Darrell Lucus</td>\n",
       "      <td>House Dem Aide: We Didn’t Even See Comey’s Let...</td>\n",
       "      <td>1</td>\n",
       "    </tr>\n",
       "    <tr>\n",
       "      <th>1</th>\n",
       "      <td>1</td>\n",
       "      <td>FLYNN: Hillary Clinton, Big Woman on Campus - ...</td>\n",
       "      <td>Daniel J. Flynn</td>\n",
       "      <td>Ever get the feeling your life circles the rou...</td>\n",
       "      <td>0</td>\n",
       "    </tr>\n",
       "    <tr>\n",
       "      <th>2</th>\n",
       "      <td>2</td>\n",
       "      <td>Why the Truth Might Get You Fired</td>\n",
       "      <td>Consortiumnews.com</td>\n",
       "      <td>Why the Truth Might Get You Fired October 29, ...</td>\n",
       "      <td>1</td>\n",
       "    </tr>\n",
       "    <tr>\n",
       "      <th>3</th>\n",
       "      <td>3</td>\n",
       "      <td>15 Civilians Killed In Single US Airstrike Hav...</td>\n",
       "      <td>Jessica Purkiss</td>\n",
       "      <td>Videos 15 Civilians Killed In Single US Airstr...</td>\n",
       "      <td>1</td>\n",
       "    </tr>\n",
       "    <tr>\n",
       "      <th>4</th>\n",
       "      <td>4</td>\n",
       "      <td>Iranian woman jailed for fictional unpublished...</td>\n",
       "      <td>Howard Portnoy</td>\n",
       "      <td>Print \\nAn Iranian woman has been sentenced to...</td>\n",
       "      <td>1</td>\n",
       "    </tr>\n",
       "  </tbody>\n",
       "</table>\n",
       "</div>"
      ],
      "text/plain": [
       "   id                                              title              author  \\\n",
       "0   0  House Dem Aide: We Didn’t Even See Comey’s Let...       Darrell Lucus   \n",
       "1   1  FLYNN: Hillary Clinton, Big Woman on Campus - ...     Daniel J. Flynn   \n",
       "2   2                  Why the Truth Might Get You Fired  Consortiumnews.com   \n",
       "3   3  15 Civilians Killed In Single US Airstrike Hav...     Jessica Purkiss   \n",
       "4   4  Iranian woman jailed for fictional unpublished...      Howard Portnoy   \n",
       "\n",
       "                                                text  label  \n",
       "0  House Dem Aide: We Didn’t Even See Comey’s Let...      1  \n",
       "1  Ever get the feeling your life circles the rou...      0  \n",
       "2  Why the Truth Might Get You Fired October 29, ...      1  \n",
       "3  Videos 15 Civilians Killed In Single US Airstr...      1  \n",
       "4  Print \\nAn Iranian woman has been sentenced to...      1  "
      ]
     },
     "execution_count": 57,
     "metadata": {},
     "output_type": "execute_result"
    }
   ],
   "source": [
    "data = pd.read_csv('F:/Durham_College_AI/2- semester/AI in enterprise/Final_project/train.csv')\n",
    "data.head()"
   ]
  },
  {
   "cell_type": "code",
   "execution_count": 59,
   "id": "7857882b-585a-47e5-9f2d-5db08110e623",
   "metadata": {},
   "outputs": [],
   "source": [
    "data.dropna(subset = [\"text\"],inplace = True)\n",
    "data.reset_index(inplace = True,drop = True)"
   ]
  },
  {
   "cell_type": "code",
   "execution_count": 71,
   "id": "c748fcb9-7641-4306-9995-46e83aa72873",
   "metadata": {},
   "outputs": [],
   "source": [
    "data.dropna(subset = [\"text\"],inplace = True)\n",
    "data.reset_index(inplace = True,drop = True)"
   ]
  },
  {
   "cell_type": "code",
   "execution_count": 72,
   "id": "59257685-ffd9-4de5-81f8-0457a008095a",
   "metadata": {},
   "outputs": [
    {
     "data": {
      "text/html": [
       "<div>\n",
       "<style scoped>\n",
       "    .dataframe tbody tr th:only-of-type {\n",
       "        vertical-align: middle;\n",
       "    }\n",
       "\n",
       "    .dataframe tbody tr th {\n",
       "        vertical-align: top;\n",
       "    }\n",
       "\n",
       "    .dataframe thead th {\n",
       "        text-align: right;\n",
       "    }\n",
       "</style>\n",
       "<table border=\"1\" class=\"dataframe\">\n",
       "  <thead>\n",
       "    <tr style=\"text-align: right;\">\n",
       "      <th></th>\n",
       "      <th>id</th>\n",
       "      <th>title</th>\n",
       "      <th>author</th>\n",
       "      <th>text</th>\n",
       "      <th>label</th>\n",
       "    </tr>\n",
       "  </thead>\n",
       "  <tbody>\n",
       "    <tr>\n",
       "      <th>139</th>\n",
       "      <td>139</td>\n",
       "      <td>It’s Official: Simone Biles Is the World’s Bes...</td>\n",
       "      <td>Victor Mather, Doug Mills and Chang W. Lee</td>\n",
       "      <td>RIO DE JANEIRO  —   Simone Biles, already cons...</td>\n",
       "      <td>0</td>\n",
       "    </tr>\n",
       "    <tr>\n",
       "      <th>140</th>\n",
       "      <td>140</td>\n",
       "      <td>NaN</td>\n",
       "      <td>Anonymous</td>\n",
       "      <td>There is a lot more than meets the eye to this...</td>\n",
       "      <td>1</td>\n",
       "    </tr>\n",
       "    <tr>\n",
       "      <th>141</th>\n",
       "      <td>141</td>\n",
       "      <td>It Literally Hurts My Brain to Read the Econom...</td>\n",
       "      <td>beforeitsnews.com</td>\n",
       "      <td>(Before It's News)\\n(Don Boudreaux)\\nTweet\\nHe...</td>\n",
       "      <td>1</td>\n",
       "    </tr>\n",
       "    <tr>\n",
       "      <th>142</th>\n",
       "      <td>143</td>\n",
       "      <td>U.N. Secretary General Complains That The ‘Mas...</td>\n",
       "      <td>Geoffrey Grider</td>\n",
       "      <td>U.N. Secretary General Complains That The ‘M...</td>\n",
       "      <td>1</td>\n",
       "    </tr>\n",
       "    <tr>\n",
       "      <th>143</th>\n",
       "      <td>144</td>\n",
       "      <td>Trump Bollywood Ad Meant To Sway Indian Americ...</td>\n",
       "      <td>T Steelman</td>\n",
       "      <td>Google Pinterest Digg Linkedin Reddit Stumbleu...</td>\n",
       "      <td>1</td>\n",
       "    </tr>\n",
       "    <tr>\n",
       "      <th>144</th>\n",
       "      <td>145</td>\n",
       "      <td>FBI Finds Previously Unseen Hillary Clinton Em...</td>\n",
       "      <td>Zero Hedge</td>\n",
       "      <td>\\nCrushing the hope-filled “it’s just a backup...</td>\n",
       "      <td>1</td>\n",
       "    </tr>\n",
       "  </tbody>\n",
       "</table>\n",
       "</div>"
      ],
      "text/plain": [
       "      id                                              title  \\\n",
       "139  139  It’s Official: Simone Biles Is the World’s Bes...   \n",
       "140  140                                                NaN   \n",
       "141  141  It Literally Hurts My Brain to Read the Econom...   \n",
       "142  143  U.N. Secretary General Complains That The ‘Mas...   \n",
       "143  144  Trump Bollywood Ad Meant To Sway Indian Americ...   \n",
       "144  145  FBI Finds Previously Unseen Hillary Clinton Em...   \n",
       "\n",
       "                                         author  \\\n",
       "139  Victor Mather, Doug Mills and Chang W. Lee   \n",
       "140                                   Anonymous   \n",
       "141                           beforeitsnews.com   \n",
       "142                             Geoffrey Grider   \n",
       "143                                  T Steelman   \n",
       "144                                  Zero Hedge   \n",
       "\n",
       "                                                  text  label  \n",
       "139  RIO DE JANEIRO  —   Simone Biles, already cons...      0  \n",
       "140  There is a lot more than meets the eye to this...      1  \n",
       "141  (Before It's News)\\n(Don Boudreaux)\\nTweet\\nHe...      1  \n",
       "142    U.N. Secretary General Complains That The ‘M...      1  \n",
       "143  Google Pinterest Digg Linkedin Reddit Stumbleu...      1  \n",
       "144  \\nCrushing the hope-filled “it’s just a backup...      1  "
      ]
     },
     "execution_count": 72,
     "metadata": {},
     "output_type": "execute_result"
    }
   ],
   "source": [
    "data[139:145]"
   ]
  },
  {
   "cell_type": "code",
   "execution_count": 116,
   "id": "c79ef4a7-4d31-48f5-997b-4122ce47871e",
   "metadata": {},
   "outputs": [],
   "source": [
    "vocab_size = 238052\n",
    "ps = PorterStemmer()\n",
    "max_length = 500\n",
    "embedding_dim= 100"
   ]
  },
  {
   "cell_type": "code",
   "execution_count": null,
   "id": "32fb7405-8494-4821-924f-ba41b565084d",
   "metadata": {},
   "outputs": [],
   "source": []
  },
  {
   "cell_type": "code",
   "execution_count": null,
   "id": "82d493f1-9642-45b6-9d41-4752c5c0801b",
   "metadata": {},
   "outputs": [],
   "source": []
  },
  {
   "cell_type": "code",
   "execution_count": 100,
   "id": "2f56041c-f768-4951-9256-bf103a44e6df",
   "metadata": {
    "tags": []
   },
   "outputs": [],
   "source": [
    "corpus = []\n",
    "for i in range(0, len(data)):\n",
    "    review = re.sub('[^a-zA-Z]', ' ', data['text'][i])\n",
    "    review = review.lower()\n",
    "    review = review.split()\n",
    "    \n",
    "    review = [ps.stem(word) for word in review if not word in stopwords.words('english')]\n",
    "    review = ' '.join(review)\n",
    "    corpus.append(review)"
   ]
  },
  {
   "cell_type": "code",
   "execution_count": 109,
   "id": "7842a015-e7b8-4de8-8a24-88c536d7e597",
   "metadata": {},
   "outputs": [],
   "source": [
    "onehot_repr=[one_hot(words,vocab_size)for words in corpus] "
   ]
  },
  {
   "cell_type": "code",
   "execution_count": 121,
   "id": "e88c38f1-16bf-43ca-accf-06782eea5f5c",
   "metadata": {
    "tags": []
   },
   "outputs": [],
   "source": [
    "embedded_docs=pad_sequences(onehot_repr,padding='pre',maxlen=max_length)"
   ]
  },
  {
   "cell_type": "code",
   "execution_count": 122,
   "id": "f13418e2-1d11-40c3-8011-278602865920",
   "metadata": {},
   "outputs": [
    {
     "data": {
      "text/plain": [
       "array([[     0,      0,      0, ...,  62474,  31485, 228102],\n",
       "       [     0,      0,      0, ...,  80894, 121163, 105158],\n",
       "       [ 47616, 156234,  23197, ..., 119952, 108039,   8296],\n",
       "       ...,\n",
       "       [     0,      0,      0, ..., 103699, 237960,   4244],\n",
       "       [     0,      0,      0, ...,  30002, 102725, 221401],\n",
       "       [102998, 215127, 136028, ..., 209988,  47977,  57954]])"
      ]
     },
     "execution_count": 122,
     "metadata": {},
     "output_type": "execute_result"
    }
   ],
   "source": [
    "embedded_docs"
   ]
  },
  {
   "cell_type": "code",
   "execution_count": 123,
   "id": "4d73ab84-1f93-41d8-8a0e-5d97bf198025",
   "metadata": {},
   "outputs": [],
   "source": [
    "X_final = np.array(embedded_docs)\n",
    "y_final = np.array(y)\n",
    "X_train, X_test, y_train, y_test = train_test_split(X_final, y_final, test_size=0.33, random_state=609)"
   ]
  },
  {
   "cell_type": "code",
   "execution_count": 124,
   "id": "70d2fc9d-4fed-4928-9405-8ef5ef8fd7b6",
   "metadata": {
    "tags": []
   },
   "outputs": [
    {
     "name": "stdout",
     "output_type": "stream",
     "text": [
      "Summary of the built model...\n",
      "Model: \"sequential_11\"\n",
      "_________________________________________________________________\n",
      " Layer (type)                Output Shape              Param #   \n",
      "=================================================================\n",
      " embedding_8 (Embedding)     (None, 500, 100)          23805200  \n",
      "                                                                 \n",
      " lstm_18 (LSTM)              (None, 500, 32)           17024     \n",
      "                                                                 \n",
      " lstm_19 (LSTM)              (None, 32)                8320      \n",
      "                                                                 \n",
      " dense_15 (Dense)            (None, 64)                2112      \n",
      "                                                                 \n",
      " activation_14 (Activation)  (None, 64)                0         \n",
      "                                                                 \n",
      " dense_16 (Dense)            (None, 1)                 65        \n",
      "                                                                 \n",
      " activation_15 (Activation)  (None, 1)                 0         \n",
      "                                                                 \n",
      "=================================================================\n",
      "Total params: 23,832,721\n",
      "Trainable params: 23,832,721\n",
      "Non-trainable params: 0\n",
      "_________________________________________________________________\n",
      "None\n"
     ]
    }
   ],
   "source": [
    "\n",
    "model = Sequential()\n",
    "\n",
    "model.add(Embedding(vocab_size,embedding_dim,input_length=max_length))\n",
    "\n",
    "model.add(LSTM(units=32,  dropout=0.2, recurrent_dropout=0.2,return_sequences = True))\n",
    "\n",
    "model.add(LSTM(units=32,  dropout=0.2, recurrent_dropout=0.2,return_sequences = False))\n",
    "\n",
    "\n",
    "model.add(Dense(64))\n",
    "model.add(Activation(\"relu\"))\n",
    "\n",
    "# output layer using sigmoid as activation method (0-1)\n",
    "\n",
    "model.add(Dense(1)) # classification problem: so output = 1)\n",
    "model.add(Activation(\"sigmoid\"))\n",
    "\n",
    "# try using different optimizers and different optimizer configs\n",
    "model.compile(loss='binary_crossentropy', optimizer='adam', metrics=['accuracy'])\n",
    "\n",
    "print('Summary of the built model...')\n",
    "print(model.summary())"
   ]
  },
  {
   "cell_type": "code",
   "execution_count": 125,
   "id": "adae0e0b-5d9c-4222-b5bf-ef9e29dfcf1c",
   "metadata": {},
   "outputs": [
    {
     "name": "stdout",
     "output_type": "stream",
     "text": [
      "Epoch 1/10\n",
      "218/218 [==============================] - 217s 965ms/step - loss: 0.3098 - accuracy: 0.8719 - val_loss: 0.1874 - val_accuracy: 0.9278\n",
      "Epoch 2/10\n",
      "218/218 [==============================] - 209s 957ms/step - loss: 0.0877 - accuracy: 0.9703 - val_loss: 0.1744 - val_accuracy: 0.9397\n",
      "Epoch 3/10\n",
      "218/218 [==============================] - 204s 937ms/step - loss: 0.0303 - accuracy: 0.9888 - val_loss: 0.2697 - val_accuracy: 0.9441\n",
      "Epoch 4/10\n",
      "218/218 [==============================] - 204s 936ms/step - loss: 0.0169 - accuracy: 0.9943 - val_loss: 0.2844 - val_accuracy: 0.9335\n",
      "Epoch 5/10\n",
      "218/218 [==============================] - 205s 941ms/step - loss: 0.0221 - accuracy: 0.9923 - val_loss: 0.2747 - val_accuracy: 0.9409\n",
      "Epoch 6/10\n",
      "218/218 [==============================] - 207s 948ms/step - loss: 0.0098 - accuracy: 0.9974 - val_loss: 0.3133 - val_accuracy: 0.9256\n",
      "Epoch 7/10\n",
      "218/218 [==============================] - 206s 945ms/step - loss: 0.0051 - accuracy: 0.9985 - val_loss: 0.3327 - val_accuracy: 0.9355\n",
      "Epoch 8/10\n",
      "218/218 [==============================] - 206s 947ms/step - loss: 0.0119 - accuracy: 0.9966 - val_loss: 0.3266 - val_accuracy: 0.9308\n",
      "Epoch 9/10\n",
      "218/218 [==============================] - 204s 934ms/step - loss: 0.2190 - accuracy: 0.9187 - val_loss: 0.3245 - val_accuracy: 0.8936\n",
      "Epoch 10/10\n",
      "218/218 [==============================] - 204s 934ms/step - loss: 0.1024 - accuracy: 0.9655 - val_loss: 0.2390 - val_accuracy: 0.9119\n"
     ]
    },
    {
     "data": {
      "text/plain": [
       "<keras.callbacks.History at 0x23d557dc910>"
      ]
     },
     "execution_count": 125,
     "metadata": {},
     "output_type": "execute_result"
    }
   ],
   "source": [
    "model.fit(X_train,y_train,validation_data=(X_test,y_test),epochs=10,batch_size=64,verbose = 1)"
   ]
  },
  {
   "cell_type": "code",
   "execution_count": 126,
   "id": "9902825a-be15-4ff4-b698-9328664679e4",
   "metadata": {},
   "outputs": [],
   "source": [
    "model.save(\"Final_model_example.h5\")"
   ]
  },
  {
   "cell_type": "code",
   "execution_count": 132,
   "id": "c8022dce-c215-4352-bcee-f06f3dbe8692",
   "metadata": {},
   "outputs": [],
   "source": [
    "sample = \"An update on FoxNews tech failures for the #GOPDebate \"\n",
    "temp = [sample]"
   ]
  },
  {
   "cell_type": "code",
   "execution_count": null,
   "id": "5e794a19-8e22-4d83-bbb7-153bf617d6e7",
   "metadata": {},
   "outputs": [],
   "source": []
  },
  {
   "cell_type": "code",
   "execution_count": 133,
   "id": "b1c614f1-76d6-481f-961e-723c8bc535ab",
   "metadata": {},
   "outputs": [],
   "source": [
    "test = []\n",
    "for i in range(0, len(temp)):\n",
    "    review = re.sub('[^a-zA-Z]', ' ', temp[i])\n",
    "    review = review.lower()\n",
    "    review = review.split()\n",
    "    review = [ps.stem(word) for word in review if not word in stopwords.words('english')]\n",
    "    review = ' '.join(review)\n",
    "    test.append(review)"
   ]
  },
  {
   "cell_type": "code",
   "execution_count": 134,
   "id": "f4eb70f0-dc1a-47ad-a6ec-d08612894e14",
   "metadata": {},
   "outputs": [
    {
     "data": {
      "text/plain": [
       "['updat foxnew tech failur gopdeb']"
      ]
     },
     "execution_count": 134,
     "metadata": {},
     "output_type": "execute_result"
    }
   ],
   "source": [
    "test"
   ]
  },
  {
   "cell_type": "code",
   "execution_count": 135,
   "id": "467cf001-66f6-49fa-99fe-cc190a1e81c6",
   "metadata": {},
   "outputs": [],
   "source": [
    "x =[one_hot(words,vocab_size)for words in test] "
   ]
  },
  {
   "cell_type": "code",
   "execution_count": 136,
   "id": "37daeb70-853d-4217-82ee-cd5f3969a556",
   "metadata": {},
   "outputs": [
    {
     "data": {
      "text/plain": [
       "[[193717, 156844, 215224, 181575, 200624]]"
      ]
     },
     "execution_count": 136,
     "metadata": {},
     "output_type": "execute_result"
    }
   ],
   "source": [
    "x"
   ]
  }
 ],
 "metadata": {
  "kernelspec": {
   "display_name": "Python 3 (ipykernel)",
   "language": "python",
   "name": "python3"
  },
  "language_info": {
   "codemirror_mode": {
    "name": "ipython",
    "version": 3
   },
   "file_extension": ".py",
   "mimetype": "text/x-python",
   "name": "python",
   "nbconvert_exporter": "python",
   "pygments_lexer": "ipython3",
   "version": "3.8.5"
  }
 },
 "nbformat": 4,
 "nbformat_minor": 5
}

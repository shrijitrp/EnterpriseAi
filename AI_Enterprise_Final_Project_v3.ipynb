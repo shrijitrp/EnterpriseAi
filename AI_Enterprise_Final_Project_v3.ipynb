{
 "cells": [
  {
   "cell_type": "code",
   "execution_count": 17,
   "id": "a8603a2a-3f5e-4a6b-b684-1a3a666fc2fe",
   "metadata": {},
   "outputs": [],
   "source": [
    "import pandas as pd\n",
    "import tensorflow as tf\n",
    "from tensorflow.keras.layers import Embedding\n",
    "from tensorflow.keras.preprocessing.sequence import pad_sequences\n",
    "from tensorflow.keras.models import Sequential\n",
    "from tensorflow.keras.preprocessing.text import one_hot\n",
    "from tensorflow.keras.layers import LSTM\n",
    "from tensorflow.keras.layers import Activation\n",
    "from tensorflow.keras.layers import Dense\n",
    "import nltk\n",
    "import re\n",
    "import numpy as np\n",
    "from nltk.corpus import stopwords\n",
    "from nltk.stem.porter import PorterStemmer\n",
    "from sklearn.model_selection import train_test_split\n",
    "ps = PorterStemmer()\n",
    "import pickle"
   ]
  },
  {
   "cell_type": "code",
   "execution_count": null,
   "id": "5d2d9977-093c-42b8-b57d-d0c4cbb86669",
   "metadata": {},
   "outputs": [],
   "source": [
    "data = pd.read_csv('.\\dataset\\dataset.csv')\n",
    "data.head()"
   ]
  },
  {
   "cell_type": "code",
   "execution_count": null,
   "id": "7857882b-585a-47e5-9f2d-5db08110e623",
   "metadata": {},
   "outputs": [],
   "source": [
    "data.dropna(subset = [\"text\"],inplace = True)\n",
    "data.reset_index(inplace = True,drop = True)"
   ]
  },
  {
   "cell_type": "code",
   "execution_count": 72,
   "id": "59257685-ffd9-4de5-81f8-0457a008095a",
   "metadata": {},
   "outputs": [],
   "source": [
    "data[139:145]"
   ]
  },
  {
   "cell_type": "code",
   "execution_count": 7,
   "id": "c79ef4a7-4d31-48f5-997b-4122ce47871e",
   "metadata": {},
   "outputs": [],
   "source": [
    "vocab_size = 238052\n",
    "ps = PorterStemmer()\n",
    "max_length = 500\n",
    "embedding_dim= 100"
   ]
  },
  {
   "cell_type": "code",
   "execution_count": 100,
   "id": "2f56041c-f768-4951-9256-bf103a44e6df",
   "metadata": {
    "tags": []
   },
   "outputs": [],
   "source": [
    "corpus = []\n",
    "for i in range(0, len(data)):\n",
    "    review = re.sub('[^a-zA-Z]', ' ', data['text'][i])\n",
    "    review = review.lower()\n",
    "    review = review.split()\n",
    "    \n",
    "    review = [ps.stem(word) for word in review if not word in stopwords.words('english')]\n",
    "    review = ' '.join(review)\n",
    "    corpus.append(review)"
   ]
  },
  {
   "cell_type": "code",
   "execution_count": null,
   "id": "7842a015-e7b8-4de8-8a24-88c536d7e597",
   "metadata": {},
   "outputs": [],
   "source": [
    "onehot_repr=[one_hot(words,vocab_size)for words in corpus] "
   ]
  },
  {
   "cell_type": "code",
   "execution_count": null,
   "id": "e88c38f1-16bf-43ca-accf-06782eea5f5c",
   "metadata": {
    "tags": []
   },
   "outputs": [],
   "source": [
    "embedded_docs=pad_sequences(onehot_repr,padding='pre',maxlen=max_length)"
   ]
  },
  {
   "cell_type": "code",
   "execution_count": null,
   "id": "f13418e2-1d11-40c3-8011-278602865920",
   "metadata": {},
   "outputs": [],
   "source": [
    "embedded_docs"
   ]
  },
  {
   "cell_type": "code",
   "execution_count": null,
   "id": "4d73ab84-1f93-41d8-8a0e-5d97bf198025",
   "metadata": {},
   "outputs": [],
   "source": [
    "X_final = np.array(embedded_docs)\n",
    "y_final = np.array(y)\n",
    "X_train, X_test, y_train, y_test = train_test_split(X_final, y_final, test_size=0.33, random_state=609)"
   ]
  },
  {
   "cell_type": "code",
   "execution_count": null,
   "id": "70d2fc9d-4fed-4928-9405-8ef5ef8fd7b6",
   "metadata": {
    "tags": []
   },
   "outputs": [],
   "source": [
    "\n",
    "model = Sequential()\n",
    "\n",
    "model.add(Embedding(vocab_size,embedding_dim,input_length=max_length))\n",
    "\n",
    "model.add(LSTM(units=32,  dropout=0.2, recurrent_dropout=0.2,return_sequences = True))\n",
    "\n",
    "model.add(LSTM(units=32,  dropout=0.2, recurrent_dropout=0.2,return_sequences = False))\n",
    "\n",
    "\n",
    "model.add(Dense(64))\n",
    "model.add(Activation(\"relu\"))\n",
    "\n",
    "# output layer using sigmoid as activation method (0-1)\n",
    "\n",
    "model.add(Dense(1)) # classification problem: so output = 1)\n",
    "model.add(Activation(\"sigmoid\"))\n",
    "\n",
    "# try using different optimizers and different optimizer configs\n",
    "model.compile(loss='binary_crossentropy', optimizer='adam', metrics=['accuracy'])\n",
    "\n",
    "print('Summary of the built model...')\n",
    "print(model.summary())"
   ]
  },
  {
   "cell_type": "code",
   "execution_count": null,
   "id": "adae0e0b-5d9c-4222-b5bf-ef9e29dfcf1c",
   "metadata": {},
   "outputs": [],
   "source": [
    "model.fit(X_train,y_train,validation_data=(X_test,y_test),epochs=10,batch_size=64,verbose = 1)"
   ]
  },
  {
   "cell_type": "code",
   "execution_count": 2,
   "id": "9902825a-be15-4ff4-b698-9328664679e4",
   "metadata": {},
   "outputs": [
    {
     "ename": "NameError",
     "evalue": "name 'model' is not defined",
     "output_type": "error",
     "traceback": [
      "\u001b[1;31m---------------------------------------------------------------------------\u001b[0m",
      "\u001b[1;31mNameError\u001b[0m                                 Traceback (most recent call last)",
      "\u001b[1;32m~\\AppData\\Local\\Temp/ipykernel_11084/515373099.py\u001b[0m in \u001b[0;36m<module>\u001b[1;34m\u001b[0m\n\u001b[1;32m----> 1\u001b[1;33m \u001b[0mmodel\u001b[0m\u001b[1;33m.\u001b[0m\u001b[0msave\u001b[0m\u001b[1;33m(\u001b[0m\u001b[1;34m\"Final_model_v2.h5\"\u001b[0m\u001b[1;33m)\u001b[0m\u001b[1;33m\u001b[0m\u001b[1;33m\u001b[0m\u001b[0m\n\u001b[0m",
      "\u001b[1;31mNameError\u001b[0m: name 'model' is not defined"
     ]
    }
   ],
   "source": [
    "model.save(\"Final_model_v2.h5\")"
   ]
  },
  {
   "cell_type": "code",
   "execution_count": 3,
   "id": "c8022dce-c215-4352-bcee-f06f3dbe8692",
   "metadata": {},
   "outputs": [],
   "source": [
    "# should be fake (1)\n",
    "sample = \"BenoÃ®t Hamon Wins French Socialist Partyâ€™s Presidential Nomination - The New York Times\""
   ]
  },
  {
   "cell_type": "code",
   "execution_count": 17,
   "id": "e3d5c86f",
   "metadata": {},
   "outputs": [],
   "source": [
    "# should be true (0)\n",
    "sample = \"Russian Researchers Discover Secret Nazi Military Base â€˜Treasure Hunterâ€™ in the Arctic \""
   ]
  },
  {
   "cell_type": "code",
   "execution_count": 15,
   "id": "5e794a19-8e22-4d83-bbb7-153bf617d6e7",
   "metadata": {},
   "outputs": [],
   "source": [
    "model = tf.keras.models.load_model(\"F:/Durham_College_AI/2- semester/AI in enterprise/Final_project/Final_model.h5\")"
   ]
  },
  {
   "cell_type": "code",
   "execution_count": 18,
   "id": "b1c614f1-76d6-481f-961e-723c8bc535ab",
   "metadata": {},
   "outputs": [],
   "source": [
    "def preprocess(tweet):\n",
    "    test = []\n",
    "    sample = [tweet]\n",
    "    for i in range(0, len(sample)):\n",
    "        review = re.sub('[^a-zA-Z]', ' ', sample[i])\n",
    "        review = review.lower()\n",
    "        review = review.split()\n",
    "        review = [ps.stem(word) for word in review if not word in stopwords.words('english')]\n",
    "        review = ' '.join(review)\n",
    "        test.append(review)\n",
    "        one_hot_enc =[one_hot(words,vocab_size)for words in test]\n",
    "        pad_seq = pad_sequences(one_hot_enc,padding='pre',maxlen=max_length)\n",
    "    return pad_seq"
   ]
  },
  {
   "cell_type": "code",
   "execution_count": 19,
   "id": "faeffe39-06bd-4fe0-9ce4-3eca35a8f3c8",
   "metadata": {},
   "outputs": [],
   "source": [
    "y = preprocess(sample)"
   ]
  },
  {
   "cell_type": "code",
   "execution_count": 20,
   "id": "e6ac69b6-69b0-4d1d-9cec-56ff19534478",
   "metadata": {},
   "outputs": [
    {
     "name": "stdout",
     "output_type": "stream",
     "text": [
      "Fake\n"
     ]
    }
   ],
   "source": [
    "if model.predict(x=y) > 0.5:\n",
    "    print(\"Fake\")\n",
    "else:\n",
    "    print(\"True\")"
   ]
  }
 ],
 "metadata": {
  "kernelspec": {
   "display_name": "Python 3 (ipykernel)",
   "language": "python",
   "name": "python3"
  },
  "language_info": {
   "codemirror_mode": {
    "name": "ipython",
    "version": 3
   },
   "file_extension": ".py",
   "mimetype": "text/x-python",
   "name": "python",
   "nbconvert_exporter": "python",
   "pygments_lexer": "ipython3",
   "version": "3.9.7"
  }
 },
 "nbformat": 4,
 "nbformat_minor": 5
}
